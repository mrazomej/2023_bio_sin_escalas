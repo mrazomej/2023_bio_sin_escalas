{
 "cells": [
  {
   "cell_type": "markdown",
   "metadata": {},
   "source": [
    "(c) 2023 Manuel Razo. This work is licensed under a [Creative Commons\n",
    "Attribution License CC-BY 4.0](https://creativecommons.org/licenses/by/4.0/).\n",
    "All code contained herein is licensed under an [MIT\n",
    "license](https://opensource.org/licenses/MIT)."
   ]
  },
  {
   "cell_type": "markdown",
   "metadata": {},
   "source": [
    "# Crecimiento exponencial"
   ]
  },
  {
   "cell_type": "markdown",
   "metadata": {},
   "source": [
    "¿Cuál es una de las características más importantes de la vida? En cualquier\n",
    "clase de biología seguro te han dicho que la vida \n",
    "> *\"nace, crece, se reproduce, y muere.\"* \n",
    "\n",
    "Aunque hay otras que defininen a un ser vivo, estas cuatro características\n",
    "definitivamente capturan mucho de lo único y especial de los sistemas\n",
    "biológicos. Como haremos una y otra vez en este club, intentaremos matematizar\n",
    "estos conceptos cualitativos para ver si podemos entender de manera cuantiativa\n",
    "el fenómeno de la vida.\n",
    "\n",
    "En este ejercicio, trataremos de resumir tres de estas características en un\n",
    "solo número. De manera más específica, nuestro objetivo será escribir una\n",
    "ecuación sencilla que describa el proceso de nacimiento, crecimiento, y\n",
    "reprodución de un organismo. Para ello, vamos a utilizar el lenguaje de las\n",
    "[ecuaciones diferenciales](https://es.wikipedia.org/wiki/Ecuación_diferencial).\n",
    "Si nunca has escuchado estas palabras, o el puro sonido de la palabra ecuación\n",
    "despierta memorias obscuras de tus clases de matemáticas, ¡no te apures!\n",
    "Trabajaremos con la ecuación diferencial más sencilla posible, tratando de\n",
    "explicar la intuición detrás de cada paso."
   ]
  },
  {
   "cell_type": "markdown",
   "metadata": {},
   "source": [
    "## Ecuaciones diferenciales como reglas de cambio"
   ]
  },
  {
   "cell_type": "markdown",
   "metadata": {},
   "source": [
    "Una regla general del universo es que todo se encuentra en constante cambio.\n",
    "Podríamos simplificar el objetivo de la física teórica como el descubrimiento de\n",
    "las leyes dinámicas que describen estos cambios a diferentes escalas. Las\n",
    "ecuaciones de Newton nos describen cómo un objeto cambia su posición a través\n",
    "del tiempo. Las ecuaciones de Maxwell describen cómo el campo electromagnético\n",
    "evoluciona en el tiempo.\n",
    "\n",
    "El lenguaje matemático que usamos para estas y muchas otras importantes\n",
    "descripciones de cómo es que un fenómeno evoluciona en el tiempo es el del\n",
    "cálculo diferencial. Específicamente, utilizamos las llamadas ecuaciones\n",
    "diferenciales que describen las reglas de cómo cambian variables en el tiempo.\n",
    "\n",
    "Para nuestro objetivo, lo que queremos estudiar es cómo cambia el numero de\n",
    "organismos $N$ a través del tiempo. Por ende, decimos que\n",
    "$$\n",
    "N \\equiv N(t),\n",
    "\\tag{1}\n",
    "$$\n",
    "donde el símbolo $\\equiv$ significa \"definición.\" En otras palabras, estamos\n",
    "**definiendo** que la variable $N$ cambia en función del tiempo. El cálculo es \n",
    "por excelencia el lenguaje para describir el cambio de cantidades **continuas**. \n",
    "Cantidades como masa, volumen, presión, son cantitades continuas. El número de\n",
    "organismos por otra parte es discreto. Es decir, nada más cambia en números \n",
    "enteros (1, 2, 3, $\\ldots$). No tiene sentido hablar de \"medio organismo\" o de\n",
    "\"0.025\" células. Es por eso que para poder usar el poder del cálculo diferencial\n",
    "asumiremos que lo que queremos es saber cómo es que cambia la masa total de los\n",
    "organismos $M(t)$ a través del tiempo.\n",
    "\n",
    "Nuestro objetivo es predecir la masa en un instante en el futuro $M(t + \\Delta\n",
    "t)$ dada la información que tenemos en el momento presente $M(t)$, donde $\\Delta\n",
    "t$ es un instante, digamos 0.0001 segundos, en el futuro. Pensando en el caso de\n",
    "variables discretas, sabemos que si los organismos que estamos estudiando se\n",
    "reprodujeran cada hora, al principio, si iniciamos con una sola célula, después\n",
    "de una hora tendríamos 2 células. Después de dos horas desde que inició nuestro\n",
    "experimento tendríamos 4 células. Después de tres horas tendríamos 8 células. El\n",
    "patrón que observamos es que el aumento en en número de organismos de un momento\n",
    "a otro depende de cuántos organismos hay en este momento. Si consideramos la\n",
    "masa total de los organismos, podemos decir también que el aumento de esta\n",
    "cantidad depende de la cantidad en el momento presente. Para representar esto,\n",
    "podemos escribir una ecuación de la forma\n",
    "$$\n",
    "M(t + \\Delta t) = \n",
    "\\underbrace{M(t)}_{\\text{masa actual}} + \n",
    "\\underbrace{M(t) (\\lambda \\Delta t)}_{\\text{aumento de masa}}.\n",
    "\\tag{2}\n",
    "$$\n",
    "Disectemos lo que la Eq. 2 quiere decir. La manera en que podemos interpretar la\n",
    "ecuación es que la masa en 0.001 segundos en el futuro es igual a la masa que\n",
    "tenemos en este instante mas un pequeño cambio. Ese pequeño cambio viene\n",
    "acompañado de un parámetro, $\\lambda$. Un simple análisis dimensional nos dice\n",
    "que si $M$ tiene unidades de masa y $\\Delta t$ unidades de tiempo, nuestro \n",
    "parámetro $\\lambda$ debe de tener unidades de $\\frac{1}{\\text{tiempo}}$. De esta\n",
    "manera el segundo término de la Eq. 2 tendría unidades\n",
    "$$\n",
    "M(t) (\\lambda \\Delta t) [=] \\text{masa} \\cdot \\frac{1}{\\text{tiempo}} \\cdot \n",
    "\\text{tiempo} = \\text{masa},\n",
    "\\tag{3}\n",
    "$$\n",
    "donde el símbolo $[=]$ significa que estamos estudiando las unidades de cada\n",
    "término. $\\lambda$ es el parámetro de la **tasa de crecimiento**. Es decir,\n",
    "$\\lambda$ representa qué tan rápido crece nuestra población de organismos.\n",
    "\n",
    "Lo creas o no, la Eq. 2 es una ecuación diferencial. Una ecuación diferencial no\n",
    "es más que una descripción de las reglas de cómo cambia una cantiadad con\n",
    "respecto a otra variable, en nuestro caso, cómo cambia la masa con respecto al\n",
    "tiempo. Usualemente, en un libro de texto de ecuaciones diferenciales nos\n",
    "pediría que reescribieras la ecuación como\n",
    "$$\n",
    "\\frac{M(t + \\Delta t) - M(t)}{\\Delta t} = \\lambda M(t),\n",
    "\\tag{4}\n",
    "$$\n",
    "donde despejamos las variables tal que nos quede el cociente entre el cambio de\n",
    "masa $M(t + \\Delta t) - M(t)$ y el cambio en el tiempo $\\Delta t$. Después, el \n",
    "libro nos pediría que tomemos \"el límite cuando $\\Delta t \\rightarrow 0$. Es \n",
    "decir, que consideremos un cambio \"infinitesimal\" en el tiempo. Para representar\n",
    "este límite, el libro escribiría algo como\n",
    "$$\n",
    "\\frac{dM}{dt} = \\lambda M(t),\n",
    "\\tag{5}\n",
    "$$\n",
    "donde la notación $$\\frac{dM}{dt} se le como la derivada de la masa respecto al \n",
    "tiempo. Pero no dejemos que la notación y el formalismo matemático detrás de las\n",
    "ecuaciones diferenciales nublen nuestro objetivo. Lo que realmente nos dice la\n",
    "Eq. 5 es completamente equivalente a lo que dice la Eq. 2. Una simple regla de\n",
    "cambio de cómo actualizar el valor de la masa de los organismos conforme avanza\n",
    "el tiempo.\n",
    "\n",
    "Mucho de lo que habrán visto o verán si llegan a estudiar ecuaciones\n",
    "diferenciales son métodos para resolver de manera analítica ecuaciones como la\n",
    "que escribimos en la Eq. 5. Resolver una ecuación diferencial significa pasar de\n",
    "una descripción de cómo cambia la masa en el tiempo ($\\frac{dM}{dt}$) a una\n",
    "función de la masa en función del tiempo ($M(t)$). En este caso, la solución de\n",
    "la Eq. 5 es\n",
    "$$\n",
    "M(t) = M(0) \\; \\mathrm{e}^{\\lambda t},\n",
    "\\tag{6}\n",
    "$$\n",
    "donde $M(0)$ es la masa inicial, es decir la masa en el tiempo $t = 0$, y\n",
    "$\\mathrm{e}$ es, junto con $\\pi$, una de las constantes matemáticas más\n",
    "importantes que existen. Pero nunca expliqué cómo es que llegué a esa solución.\n",
    "Es porque ¡gracias a la computadora no necesitamos cómo se resuelve esta\n",
    "ecuación! Podemos usar lo que hemos aprendido de `Python` para resolver\n",
    "numéricamente la Eq. 2."
   ]
  },
  {
   "cell_type": "markdown",
   "metadata": {},
   "source": [
    "## Usando ciclos `for` para resolver ecuaciones diferenciales"
   ]
  },
  {
   "cell_type": "markdown",
   "metadata": {},
   "source": [
    "La Eq. 2 nos dice cómo, de manera iterativa, podemos resolver nuestra ecuación.\n",
    "Si la masa en el tiempo $t + \\Delta t$ está dada por esa ecuación, podemos decir\n",
    "que la masa en el tiempo $t + 2 \\Delta t$ sigue la misma forma, resultando en\n",
    "$$\n",
    "M(t + 2 \\Delta t) = M(t + \\Delta t) + \\lambda \\Delta t M(t + \\Delta t),\n",
    "\\tag{7}\n",
    "$$\n",
    "es decir, sustituimos en la Eq. 2 $t \\rightarrow (t + \\Delta t)$ y $(t + \\Delta\n",
    "t) \\rightarrow (t + 2 \\Delta t)$. Para el tiempo $t + 3 \\Delta t$ seguiríamos el\n",
    "mismo patrón. Es por eso que podemos usar un ciclo `for` para resolver la\n",
    "ecuación.\n",
    "\n",
    "Comencemos por importar los paquetes que vamos a necesitar."
   ]
  },
  {
   "cell_type": "code",
   "execution_count": 1,
   "metadata": {},
   "outputs": [],
   "source": [
    "# Importar paquete para analisis numerico\n",
    "import numpy as np\n",
    "\n",
    "# Importar paquete para graficar curvas\n",
    "import matplotlib.pyplot as plt\n",
    "\n",
    "# Importar paquete para estilo de graficas\n",
    "import seaborn as sns\n",
    "\n",
    "# Establecer estilo de grafica\n",
    "sns.set_theme()"
   ]
  },
  {
   "cell_type": "markdown",
   "metadata": {},
   "source": [
    "Lo siguiente que necesitamos es definir los parámetros para nuestra ecuación.\n",
    "Recordemos que a pesar de que la Eq. 2 está escrita en símbolos algebraicos, la\n",
    "computadora nada más sabe lidiar con números. Es por eso que tenemos que definir\n",
    "el valor de los parámetros de nuestra ecuación."
   ]
  },
  {
   "cell_type": "code",
   "execution_count": 2,
   "metadata": {},
   "outputs": [],
   "source": [
    "# Definir la masa inicial\n",
    "mass_init = 1   # [=] masa\n",
    "\n",
    "# Definir el tamaño del paso en el tiempo\n",
    "delta_t = 0.0001    # [=] tiempo\n",
    "\n",
    "# Definir el tiempo de integracion\n",
    "t = 100  # [=] tiempo\n",
    "\n",
    "# Calcular en numero de iteraciones en nuestro ciclo for\n",
    "n_steps = int(t / delta_t)\n",
    "\n",
    "# Definir los tiempos en que se evalua la ecuaion\n",
    "t_array = np.linspace(0, t, n_steps)\n",
    "\n",
    "\n",
    "# Definir tasa de crecimiento\n",
    "lam = 0.1   # [=] tiempo**-1"
   ]
  },
  {
   "cell_type": "markdown",
   "metadata": {},
   "source": [
    "Habiendo definido los parámetros, ahora sí podemos usar un ciclo `for` para\n",
    "integrar la ecuación"
   ]
  },
  {
   "cell_type": "code",
   "execution_count": 3,
   "metadata": {},
   "outputs": [],
   "source": [
    "# Inicializar arreglo para almacenar la masa\n",
    "mass = np.zeros(n_steps)    # [=] masa\n",
    "# Definir masa inicial en arreglo\n",
    "mass[0] = mass_init\n",
    "\n",
    "# Iterar en cada paso de tiempo\n",
    "for t in range(n_steps - 1):\n",
    "    mass[t+1] = mass[t] + lam * mass[t] * delta_t"
   ]
  },
  {
   "cell_type": "markdown",
   "metadata": {},
   "source": [
    "Grafiquemos el resultado."
   ]
  },
  {
   "cell_type": "code",
   "execution_count": 4,
   "metadata": {},
   "outputs": [
    {
     "data": {
      "text/plain": [
       "Text(0, 0.5, 'mass')"
      ]
     },
     "execution_count": 4,
     "metadata": {},
     "output_type": "execute_result"
    },
    {
     "data": {
      "image/png": "[encoded data removed]",
      "text/plain": [
       "<Figure size 640x480 with 1 Axes>"
      ]
     },
     "metadata": {},
     "output_type": "display_data"
    }
   ],
   "source": [
    "# Graficar tiempo vs masa\n",
    "plt.plot(t_array, mass)\n",
    "\n",
    "# Anotar ejes\n",
    "plt.xlabel(\"time\")\n",
    "plt.ylabel(\"mass\")"
   ]
  },
  {
   "cell_type": "markdown",
   "metadata": {},
   "source": [
    "¡Esto realmente parece una curva exponencial! Para confirmarlo, comparemos\n",
    "nuestra integración numérica de la ecuación con la solución analítica escrita en\n",
    "la Eq. 6."
   ]
  },
  {
   "cell_type": "code",
   "execution_count": 5,
   "metadata": {},
   "outputs": [
    {
     "data": {
      "text/plain": [
       "Text(0, 0.5, 'mass')"
      ]
     },
     "execution_count": 5,
     "metadata": {},
     "output_type": "execute_result"
    },
    {
     "data": {
      "image/png": "[encoded data removed]",
      "text/plain": [
       "<Figure size 640x480 with 1 Axes>"
      ]
     },
     "metadata": {},
     "output_type": "display_data"
    }
   ],
   "source": [
    "# Calcular masa usando resultado analitico\n",
    "mass_analytic = mass_init * np.exp(lam * t_array)\n",
    "\n",
    "# Graficar tiempo vs masa (numerico)\n",
    "plt.plot(t_array, mass, label=\"numeric\")\n",
    "# Graficar tiempo vs masa (analitico)\n",
    "plt.plot(\n",
    "    t_array, mass_analytic, label=\"analytic\", linestyle=\"--\", color=\"orange\"\n",
    ")\n",
    "\n",
    "# Añadir legenda\n",
    "plt.legend()\n",
    "\n",
    "# Anotar ejes\n",
    "plt.xlabel(\"time\")\n",
    "plt.ylabel(\"mass\")"
   ]
  },
  {
   "cell_type": "markdown",
   "metadata": {},
   "source": [
    "Este resultado demuestra que nuestra solución numérica es indistinguible de la\n",
    "solución analítica. Lo cual implica que la descripción de una ecuación\n",
    "diferencial como la escribimos en la Eq. 2 es correcta.\n",
    "\n",
    "Habiendo demostrado eso, es importante decir que la precisión de la aproximación\n",
    "numérica depende de los parámetros que usamos. En particular, la solución\n",
    "requiere de un $\\Delta t$ pequeño comparado con la tasa de crecimiento. Para\n",
    "demostrar esto, repitamos la integración numérica cambiando el valor del $\\Delta\n",
    "t$."
   ]
  },
  {
   "cell_type": "code",
   "execution_count": 6,
   "metadata": {},
   "outputs": [],
   "source": [
    "# Definir el tamaño del paso en el tiempo\n",
    "delta_t_long = 0.3    # [=] tiempo\n",
    "\n",
    "# Definir el tiempo de integracion\n",
    "t = 100  # [=] tiempo\n",
    "\n",
    "# Calcular en numero de iteraciones en nuestro ciclo for\n",
    "n_steps_long = int(t / delta_t_long)\n",
    "\n",
    "# Definir los tiempos en que se evalua la ecuaion\n",
    "t_array_long = np.linspace(0, t, n_steps_long)\n",
    "\n",
    "# Inicializar arreglo para almacenar la masa\n",
    "mass_long = np.zeros(n_steps_long)    # [=] masa\n",
    "# Definir masa inicial en arreglo\n",
    "mass_long[0] = mass_init\n",
    "\n",
    "# Iterar en cada paso de tiempo\n",
    "for t in range(n_steps_long - 1):\n",
    "    mass_long[t+1] = mass_long[t] + lam * mass_long[t] * delta_t_long"
   ]
  },
  {
   "cell_type": "markdown",
   "metadata": {},
   "source": [
    "Grafiquemos los tres resultados juntos."
   ]
  },
  {
   "cell_type": "code",
   "execution_count": 7,
   "metadata": {},
   "outputs": [
    {
     "data": {
      "text/plain": [
       "Text(0, 0.5, 'mass')"
      ]
     },
     "execution_count": 7,
     "metadata": {},
     "output_type": "execute_result"
    },
    {
     "data": {
      "image/png": "[encoded data removed]",
      "text/plain": [
       "<Figure size 640x480 with 1 Axes>"
      ]
     },
     "metadata": {},
     "output_type": "display_data"
    }
   ],
   "source": [
    "# Calcular masa usando resultado analitico\n",
    "mass_analytic = mass_init * np.exp(lam * t_array)\n",
    "\n",
    "# Graficar tiempo vs masa (delta_t pequeño)\n",
    "plt.plot(t_array, mass, label=f\"Δt={delta_t}\")\n",
    "# Graficar tiempo vs masa (delta_t grande)\n",
    "plt.plot(t_array_long, mass_long, label=f\"Δt={delta_t_long}\", linestyle=\":\")\n",
    "# Graficar tiempo vs masa (analitico)\n",
    "plt.plot(\n",
    "    t_array, mass_analytic, label=\"analytic\", linestyle=\"--\", color=\"orange\"\n",
    ")\n",
    "\n",
    "# Añadir legenda\n",
    "plt.legend()\n",
    "\n",
    "# Anotar ejes\n",
    "plt.xlabel(\"time\")\n",
    "plt.ylabel(\"mass\")"
   ]
  },
  {
   "cell_type": "markdown",
   "metadata": {},
   "source": [
    "Como esperábamos, la solución numérica comienza a diferenciarse de la solución\n",
    "exacta mientras más grande es el tamaño de cada paso en el tiempo. Esto\n",
    "significa que resolver ecuaciones diferenciales de manera numérica puede ser\n",
    "computacionalmente muy costoso pues se requieren pasos muy pequeños para\n",
    "asegurarnos de que no nos alejamos de la solución correcta de manera\n",
    "sistemática."
   ]
  },
  {
   "cell_type": "markdown",
   "metadata": {},
   "source": [
    "# Conclusión"
   ]
  },
  {
   "cell_type": "markdown",
   "metadata": {},
   "source": [
    "En este tutorial entendimos el concepto de ecuaciones diferenciales como reglas\n",
    "de cambio que pueden ser fácilmente implementadas en la computadora. Resolvimos\n",
    "de manera numérica la ecuación que representa el crecimiento exponencial de un\n",
    "grupo de organismos, y comparamos la integración numérica con la solución\n",
    "analítica exacta."
   ]
  },
  {
   "cell_type": "markdown",
   "metadata": {},
   "source": [
    "## Ambiente computacional"
   ]
  },
  {
   "cell_type": "code",
   "execution_count": 8,
   "metadata": {},
   "outputs": [
    {
     "name": "stdout",
     "output_type": "stream",
     "text": [
      "Python implementation: CPython\n",
      "Python version       : 3.11.4\n",
      "IPython version      : 8.14.0\n",
      "\n",
      "numpy     : 1.24.4\n",
      "matplotlib: 3.7.2\n",
      "jupyter   : 1.0.0\n",
      "\n"
     ]
    }
   ],
   "source": [
    "%load_ext watermark\n",
    "%watermark -v -p numpy,matplotlib,jupyter"
   ]
  }
 ],
 "metadata": {
  "kernelspec": {
   "display_name": "bioescala",
   "language": "python",
   "name": "python3"
  },
  "language_info": {
   "codemirror_mode": {
    "name": "ipython",
    "version": 3
   },
   "file_extension": ".py",
   "mimetype": "text/x-python",
   "name": "python",
   "nbconvert_exporter": "python",
   "pygments_lexer": "ipython3",
   "version": "3.11.4"
  },
  "orig_nbformat": 4
 },
 "nbformat": 4,
 "nbformat_minor": 2
}
