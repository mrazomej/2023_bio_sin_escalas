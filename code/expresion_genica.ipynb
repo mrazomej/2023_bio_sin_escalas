{
 "cells": [
  {
   "cell_type": "markdown",
   "metadata": {},
   "source": [
    "(c) 2023 Manuel Razo. This work is licensed under a [Creative Commons\n",
    "Attribution License CC-BY 4.0](https://creativecommons.org/licenses/by/4.0/).\n",
    "All code contained herein is licensed under an [MIT\n",
    "license](https://opensource.org/licenses/MIT)."
   ]
  },
  {
   "cell_type": "markdown",
   "metadata": {},
   "source": [
    "# Modelando el dogma central"
   ]
  },
  {
   "cell_type": "markdown",
   "metadata": {},
   "source": [
    "En este ejercicio, analizaremos las ecuaciones diferenciales que describen la\n",
    "expresión de un gen. Para empezar, comencemos con el caso más sencillo de todos:\n",
    "un gen que se expresa de manera constitutiva, es decir, un gen sin regulación."
   ]
  },
  {
   "cell_type": "markdown",
   "metadata": {},
   "source": [
    "## Expresión constitutiva"
   ]
  },
  {
   "cell_type": "markdown",
   "metadata": {},
   "source": [
    "Imaginemos que queremos modelar cómo cambia la cantidad de RNA mensajero (mRNA)\n",
    "en la célula. Para esto definimos la variable $m(t)$ que representará el número\n",
    "promedio de un mRNA en particular en un conjunto de células. Nótese que el mRNA\n",
    "es un objeto discreto. Es decir, en una célula no tendría sentido hablar de\n",
    "tener 1.5 mRNA o nada que no sea un número entero. Pero cuando hablamos del\n",
    "*promedio* de mRNAs en una población de células, esta cantidad sí puede\n",
    "considerarse como continua.\n",
    "\n",
    "Pensemos cuáles son los procesos que pueden ocurrir en una célula que cambiarían\n",
    "el número de mRNAs. Existen al menos dos procesos que tenemos que considerar:\n",
    "1. la produción de una molécula de mRNA,\n",
    "2. la degradación de una molécula de mRNA. \n",
    "\n",
    "El modelo que escribamos que describa la dinámica del número de mRNAs entonces\n",
    "tiene que incluir estos dos procesos. Recordemos que una ecuación diferencial es\n",
    "una simple regla de cambio de cómo varía en el tiempo una cantidad de interés.\n",
    "Nuestro objetivo es entonces predecir el número de mRNAs en un instante en el\n",
    "futuro, $m(t + \\Delta t)$ dada la información presente. Podemos entonces\n",
    "escribir\n",
    "$$\n",
    "m(t + \\Delta t) = \n",
    "\\underbrace{m(t)}_{\\text{\\# de mRNA ahora}}\n",
    "+ \\overbrace{r\\Delta t}^{\\text{produccion constante de mRNA}}\n",
    "- \\underbrace{\\gamma \\; m(t) \\Delta t}_{\\text{degradacion de RNA}}.\n",
    "\\tag{1}\n",
    "$$\n",
    "\n",
    "Disectemos cada uno de los términos en la Eq. 1. El primer término del lado\n",
    "derecho nos dice que el número de mRNAs en un instante en el futuro depende del\n",
    "número presente de mRNAs. El siguiente término, $r \\Delta t$ captura la idea de\n",
    "expresición constitutiva. La producción de nuevos mRNAs no depende del número \n",
    "actual de mRNAs. Depende de otros factores como el número de RNA polimerasas y\n",
    "de nucleótidos en la célula. Pero capturaremos toda esa complejidad en un simple\n",
    "parámetro constante $r$ que debe de tener unidades de\n",
    "$$\n",
    "r [=] \\frac{\\text{mRNA}}{\\text{tiempo}}.\n",
    "\\tag{2}\n",
    "$$\n",
    "Es decir, es una tasa de producción de mRNAs. El tercer término de lado derecho\n",
    "de la Eq. 1 representa la degradación de mRNAs. La cantidad de mRNAs que se\n",
    "degradan en una ventana de tiempo $\\Delta t$ depende del número actual de mRNAs.\n",
    "Pensémoslo de la siguiente manera. Imaginemos que cada instante, cada mRNA lanza\n",
    "una moneda con probabilidad $\\gamma \\Delta t$ de caer en sello. Si cae en sello,\n",
    "el mRNA se degrada. Si cae en águila con probabilidad $1 - \\gamma \\Delta$, el\n",
    "mRNA no es degradado. La clave es que la probabilidad $\\gamma \\Delta$ es muy\n",
    "pequeña, por lo que no veremos a todos lo mRNAs degradarse simultaneamente.\n",
    "Digamos que si tenemos 100 mRNAs, en promedio veremos a uno degradarse en cada\n",
    "instante. Esto implica que si tenemos 1000 mRNAs, esperamos ver 10 veces más\n",
    "eventos de degradación. Es eso lo que captura el multiplicar la tasa de\n",
    "degradación $\\gamma$ con el numero de mRNAs. Esta tasa de degradación tiene\n",
    "unidades de\n",
    "$$\n",
    "\\gamma [=] \\frac{1}{\\text{tiempo}},\n",
    "\\tag{3}\n",
    "$$\n",
    "que no son las mismas que en la Eq. 2."
   ]
  },
  {
   "cell_type": "markdown",
   "metadata": {},
   "source": [
    "Comencemos por importar los paquetes que necesitaremos."
   ]
  },
  {
   "cell_type": "code",
   "execution_count": 2,
   "metadata": {},
   "outputs": [],
   "source": [
    "# Importar paquete para analisis numerico\n",
    "import numpy as np\n",
    "\n",
    "# Importar paquete para graficar curvas\n",
    "import matplotlib.pyplot as plt\n",
    "\n",
    "# Importar paquete para estilo de graficas\n",
    "import seaborn as sns\n",
    "\n",
    "# Establecer estilo de grafica\n",
    "sns.set_theme()"
   ]
  },
  {
   "cell_type": "markdown",
   "metadata": {},
   "source": [
    "Habiendo escrito la Eq. 1, definamos los parámetros para integrar esta ecuación\n",
    "numéricamente."
   ]
  },
  {
   "cell_type": "code",
   "execution_count": 6,
   "metadata": {},
   "outputs": [],
   "source": [
    "# Definir tamaño de pasa de tiempo\n",
    "delta_t = 0.01\n",
    "\n",
    "# Definir el tiempo de integración\n",
    "t = 100\n",
    "\n",
    "# Calcular el numero de pasos\n",
    "n_steps = int(t / delta_t)\n",
    "\n",
    "# Definir los tiempos en que se evalua la ecuaion\n",
    "t_array = np.linspace(0, t, n_steps)\n",
    "\n",
    "# Definir el numero inicial de mRNAs\n",
    "m_init = 0\n",
    "\n",
    "# Definir tasa de prduccion\n",
    "r = 1   # [=] mRNA / tiempo\n",
    "\n",
    "# Definir la tasa de degradacion\n",
    "gamma = 0.1     # [=] 1 / tiempo"
   ]
  },
  {
   "cell_type": "markdown",
   "metadata": {},
   "source": [
    "Con los parámetros en mano, definamos la Eq. 1 en un ciclo `for`."
   ]
  },
  {
   "cell_type": "code",
   "execution_count": 7,
   "metadata": {},
   "outputs": [],
   "source": [
    "# Inicializar arreglo para almacenar numero de mRNAs\n",
    "m_array = np.zeros(n_steps)\n",
    "\n",
    "# Agregar condicion inicial\n",
    "m_array[0] = m_init\n",
    "\n",
    "# Iterar en cada paso de tiempo\n",
    "for t in range(n_steps - 1):\n",
    "    m_array[t+1] = m_array[t] + r * delta_t - gamma * delta_t * m_array[t]"
   ]
  },
  {
   "cell_type": "markdown",
   "metadata": {},
   "source": [
    "Grafiquemos el resultado"
   ]
  },
  {
   "cell_type": "code",
   "execution_count": 8,
   "metadata": {},
   "outputs": [
    {
     "data": {
      "text/plain": [
       "Text(0, 0.5, 'mRNA')"
      ]
     },
     "execution_count": 8,
     "metadata": {},
     "output_type": "execute_result"
    },
    {
     "data": {
      "image/png": "[encoded data removed]",
      "text/plain": [
       "<Figure size 640x480 with 1 Axes>"
      ]
     },
     "metadata": {},
     "output_type": "display_data"
    }
   ],
   "source": [
    "# Graficar tiempo vs masa\n",
    "plt.plot(t_array, m_array)\n",
    "\n",
    "# Anotar ejes\n",
    "plt.xlabel(\"time\")\n",
    "plt.ylabel(\"mRNA\")"
   ]
  },
  {
   "cell_type": "markdown",
   "metadata": {},
   "source": [
    "Podemos observar que el valor de mRNAs converge a 10 mRNA por célula. Esto\n",
    "ocurre cuando la tasa de producción es la misma que la tasa de degradación.\n",
    "Llamemos a este valor al que convergen los mRNAs $m^*$. Es lo que se conoce como\n",
    "el \"steady state\" o estado estable del sistema dinámico. El valor de este estado\n",
    "estable depende de los parámetros $r$ y $\\gamma$. Podemos encontrar cómo se\n",
    "relacionan esos parámetros con un poco de álgebra.\n"
   ]
  },
  {
   "cell_type": "markdown",
   "metadata": {},
   "source": [
    "## Calculando el estado estable del sistema"
   ]
  },
  {
   "cell_type": "markdown",
   "metadata": {},
   "source": [
    "Para poder calcular el valor de $m^*$ pensando de la siguiente manera: el llegar\n",
    "a un estado estable significa que el valor de $m(t)$ ya no cambia en el tiempo.\n",
    "Esto implica que cuando $t$ es muy grande, encontramos que\n",
    "$$\n",
    "m(t + \\Delta t) = m(t),\n",
    "\\tag{4}\n",
    "$$\n",
    "es decir, el valor de $m(t)$ se mantiene constante. Usando esta equivalencia\n",
    "podemos sustituir el lado izquierdo de la Eq. 1, obteniendo\n",
    "$$\n",
    "m(t) = m(t) + r\\Delta t - \\gamma \\; m(t) \\Delta t.\n",
    "\\tag{5}\n",
    "$$\n",
    "Podemos entonces cancelar el término en el lado izquierdo con el primer término\n",
    "del lado derecho. Esto resulta en\n",
    "$$\n",
    "0 = r\\Delta t - \\gamma \\; m^* \\Delta t,\n",
    "\\tag{6}\n",
    "$$\n",
    "donde sustituímos $m(t)$ por $m^*$ porque estamos asumiendo que llegamos al\n",
    "estado estable que estamos buscando. Podemos despejar los términos para dejar a\n",
    "$m^*$ aislado, obteniendo\n",
    "$$\n",
    "m^* = \\frac{r\\Delta t}{\\gamma \\Delta t} = \\frac{r}{\\gamma}.\n",
    "\\tag{7}\n",
    "$$\n",
    "Este resultado demuestra que el estado estable del sistema está definido por el\n",
    "cociente de la tasa de producción $r$ y la de degradación $\\gamma$. Para\n",
    "demostrar que este resultado aplica independiente del número inicial de mRNAs,\n",
    "repitamos la integración numérica, esta vez con múltiples condiciones iniciales."
   ]
  },
  {
   "cell_type": "code",
   "execution_count": 14,
   "metadata": {},
   "outputs": [],
   "source": [
    "# Definir tasa de produccion\n",
    "r = 1\n",
    "# Definir tasa de degradacion\n",
    "gamma = 0.1\n",
    "# Definir lista de condiciones iniciales\n",
    "m_init = np.array([0.0, 3.0, 6.0, 14.0, 17.0, 20.0])\n",
    "\n",
    "# Inicializar matriz para salvar numero de mRNAs\n",
    "m_mat = np.zeros([len(t_array), len(m_init)])\n",
    "\n",
    "# Guardemos la condicion inicial\n",
    "m_mat[0, :] = m_init\n",
    "\n",
    "\n",
    "# Ciclemos por los puntos en el tiempo\n",
    "for t in range(len(t_array) - 1):\n",
    "    # Ciclemos por las condiciones iniciales\n",
    "    for m in range(len(m_init)):\n",
    "        m_mat[t+1, m] = m_mat[t, m] + r * delta_t - \\\n",
    "            gamma * delta_t * m_mat[t, m]"
   ]
  },
  {
   "cell_type": "markdown",
   "metadata": {},
   "source": [
    "Grafiquemos cada una de las trajectorias."
   ]
  },
  {
   "cell_type": "code",
   "execution_count": 25,
   "metadata": {},
   "outputs": [
    {
     "data": {
      "image/png": "[encoded data removed]",
      "text/plain": [
       "<Figure size 640x480 with 1 Axes>"
      ]
     },
     "metadata": {},
     "output_type": "display_data"
    }
   ],
   "source": [
    "# Graficar estado estable predicho\n",
    "plt.hlines(r / gamma, min(t_array), max(t_array),\n",
    "           linestyle=\"--\", color=\"black\", linewidth=2)\n",
    "\n",
    "# Ciclar por condiciones iniciales\n",
    "for m in range(np.shape(m_mat)[1]):\n",
    "    plt.plot(t_array, m_mat[:, m])"
   ]
  },
  {
   "cell_type": "markdown",
   "metadata": {},
   "source": [
    "Como lo derivamos analíticamente, sin importar la codición inicial, todas las\n",
    "trayectorias convergen al estado estable definido por la Eq. 7."
   ]
  }
 ],
 "metadata": {
  "kernelspec": {
   "display_name": "bioescala",
   "language": "python",
   "name": "python3"
  },
  "language_info": {
   "codemirror_mode": {
    "name": "ipython",
    "version": 3
   },
   "file_extension": ".py",
   "mimetype": "text/x-python",
   "name": "python",
   "nbconvert_exporter": "python",
   "pygments_lexer": "ipython3",
   "version": "3.11.4"
  },
  "orig_nbformat": 4
 },
 "nbformat": 4,
 "nbformat_minor": 2
}
